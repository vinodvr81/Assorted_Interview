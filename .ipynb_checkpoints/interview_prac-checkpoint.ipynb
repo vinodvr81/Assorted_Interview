{
 "cells": [
  {
   "cell_type": "code",
   "execution_count": 46,
   "metadata": {},
   "outputs": [
    {
     "name": "stdout",
     "output_type": "stream",
     "text": [
      "{'b': {'c': [1, 2]}}\n",
      "b{'c': [1, 2]}\n",
      "{'c': [1, 2]}\n",
      "b{'c': [1, 2]}\n",
      "[1, 2]\n"
     ]
    }
   ],
   "source": [
    "dict1={'a':{'b':{'c':[1,2]}}}\n",
    "\n",
    "def print_dict(d = dict(),a = str()): \n",
    "    \n",
    "        \n",
    "    for key1,value1 in d.items():\n",
    "        if a == key1:\n",
    "            return dict1[a]        \n",
    "        if type(value1) is dict:\n",
    "            for key2,value2 in value1.items():\n",
    "                print(key2+str(value2))\n",
    "                if a == key2:\n",
    "                    return value2\n",
    "                if type(value2) is dict:\n",
    "                    for key3,value3 in value2.items():\n",
    "                        if a == key3:\n",
    "                            return value3\n",
    "    return None                  \n",
    "        \n",
    "\n",
    "\n",
    "print(print_dict(dict1,'a'))   \n",
    "print(print_dict(dict1,'b')) \n",
    "print(print_dict(dict1,'c')) \n",
    "      \n",
    "\n",
    "\n",
    "                            \n",
    "                        \n",
    "                            \n",
    "                        "
   ]
  },
  {
   "cell_type": "code",
   "execution_count": 39,
   "metadata": {},
   "outputs": [
    {
     "name": "stdout",
     "output_type": "stream",
     "text": [
      "{'b': {'c': [1, 2]}}\n",
      "[1, 2]\n",
      "{'c': [1, 2]}\n"
     ]
    }
   ],
   "source": [
    "from functools import reduce\n",
    "\n",
    "dict1={'a':{'b':{'c':[1,2]}}}\n",
    "\n",
    "def return_dict_key(dict1=dict(),s=str()):\n",
    "    return reduce(lambda d,s: d.__getitem__(s) if isinstance(d,type(dict1)) else None,list(s),dict1)\n",
    "\n",
    "print(return_dict_key(dict1,['a']))   \n",
    "print(return_dict_key(dict1,['a','b','c'])) \n",
    "print(return_dict_key(dict1,['a','b'])) \n",
    "      \n",
    "    "
   ]
  },
  {
   "cell_type": "code",
   "execution_count": 40,
   "metadata": {},
   "outputs": [
    {
     "name": "stdout",
     "output_type": "stream",
     "text": [
      "{'b': {'c': [1, 2]}}\n",
      "{'c': [1, 2]}\n",
      "[1, 2]\n"
     ]
    }
   ],
   "source": [
    "from functools import reduce\n",
    "\n",
    "def deep_get(dictionary, keys):\n",
    "    return reduce(lambda d, key: d.get(key,None) if isinstance(d, dict) else None, list(keys.split(\".\")), dictionary)\n",
    "\n",
    "dict1={'a':{'b':{'c':[1,2]}}}\n",
    "\n",
    "print(deep_get(dict1,'a'))   \n",
    "print(deep_get(dict1,\"a.b\")) \n",
    "print(deep_get(dict1,\"a.b.c\")) "
   ]
  },
  {
   "cell_type": "code",
   "execution_count": 41,
   "metadata": {},
   "outputs": [
    {
     "name": "stdout",
     "output_type": "stream",
     "text": [
      "{'b': {'c': {'d': {'e': 42}}}}\n",
      "{'c': {'d': {'e': 42}}}\n",
      "{'d': {'e': 42}}\n",
      "{'e': 42}\n",
      "42\n",
      "None\n"
     ]
    }
   ],
   "source": [
    "def deep_get_m(_dict, keys, default=None):\n",
    "\n",
    "    _reducer = lambda d, key: d.get(key, default) if isinstance(d, dict)  else None\n",
    "    return reduce(_reducer, keys, _dict)\n",
    "\n",
    "nested = {'a': {'b': {'c':{'d': {'e':42}}}}}\n",
    "print(deep_get_m(nested, ['a']))\n",
    "print(deep_get_m(nested, ['a', 'b']))\n",
    "print(deep_get_m(nested, ['a', 'b','c']))\n",
    "print(deep_get_m(nested, ['a', 'b','c','d']))\n",
    "print(deep_get_m(nested, ['a', 'b','c','d','e']))\n",
    "print(deep_get_m(nested, ['a', 'b', 'z', 'z'], default='missing'))"
   ]
  },
  {
   "cell_type": "code",
   "execution_count": 42,
   "metadata": {},
   "outputs": [],
   "source": [
    "a=[1,2]\n",
    "b=list(a)"
   ]
  },
  {
   "cell_type": "code",
   "execution_count": 43,
   "metadata": {},
   "outputs": [
    {
     "data": {
      "text/plain": [
       "True"
      ]
     },
     "execution_count": 43,
     "metadata": {},
     "output_type": "execute_result"
    }
   ],
   "source": [
    "a==b"
   ]
  },
  {
   "cell_type": "code",
   "execution_count": null,
   "metadata": {},
   "outputs": [],
   "source": []
  }
 ],
 "metadata": {
  "kernelspec": {
   "display_name": "Python 3",
   "language": "python",
   "name": "python3"
  },
  "language_info": {
   "codemirror_mode": {
    "name": "ipython",
    "version": 3
   },
   "file_extension": ".py",
   "mimetype": "text/x-python",
   "name": "python",
   "nbconvert_exporter": "python",
   "pygments_lexer": "ipython3",
   "version": "3.6.5"
  }
 },
 "nbformat": 4,
 "nbformat_minor": 2
}
