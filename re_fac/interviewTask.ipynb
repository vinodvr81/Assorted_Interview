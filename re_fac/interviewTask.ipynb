{
 "cells": [
  {
   "cell_type": "code",
   "execution_count": 1,
   "metadata": {},
   "outputs": [
    {
     "name": "stdout",
     "output_type": "stream",
     "text": [
      "12\n",
      "18\n",
      "0\n"
     ]
    }
   ],
   "source": [
    "def mulArr(x:list):\n",
    "    y=sorted(x)\n",
    "    return y[-1]*y[-2]\n",
    "x=[1,2,3,4]\n",
    "print(mulArr(x))\n",
    "x=[-1,0,3,6,2]\n",
    "print(mulArr(x))\n",
    "x=[-1,0,-1]\n",
    "print(mulArr(x))"
   ]
  },
  {
   "cell_type": "code",
   "execution_count": 2,
   "metadata": {},
   "outputs": [
    {
     "name": "stdout",
     "output_type": "stream",
     "text": [
      "56\n",
      "42\n"
     ]
    }
   ],
   "source": [
    "x=[6,1,3,4,7,8,-1]\n",
    "print(mulArr(x))\n",
    "x=[7,4,5,1,6,3]\n",
    "print(mulArr(x))"
   ]
  },
  {
   "cell_type": "code",
   "execution_count": 12,
   "metadata": {},
   "outputs": [
    {
     "name": "stdout",
     "output_type": "stream",
     "text": [
      "28\n",
      "30\n",
      "27\n"
     ]
    }
   ],
   "source": [
    "def seqHighMul(x:list):\n",
    "    num = []\n",
    "    y = []\n",
    "    for i,v in enumerate(x):\n",
    "        if i+1 < len(x):\n",
    "            num.append(v*x[i+1])\n",
    "    return sorted(num)[-1]\n",
    "    \n",
    "\n",
    "x = [7,4,5,1,6,3]\n",
    "print(seqHighMul(x))\n",
    "\n",
    "x = [4,1,10,3,6,2]\n",
    "print(seqHighMul(x))\n",
    "\n",
    "x = [1,8,2,4,3,9]\n",
    "print(seqHighMul(x))\n",
    "\n"
   ]
  },
  {
   "cell_type": "code",
   "execution_count": 67,
   "metadata": {},
   "outputs": [
    {
     "name": "stdout",
     "output_type": "stream",
     "text": [
      "toyot\n",
      "ama\n",
      "None\n",
      "ommo\n"
     ]
    }
   ],
   "source": [
    "def palindromeString(x:str)->str:\n",
    "    revX:list=[]\n",
    "    for i in range(len(x)-1,-1,-1):        \n",
    "        revX.append(x[i])    \n",
    "    return x == \"\".join(revX)\n",
    "\n",
    "\n",
    "\n",
    "def finfPalindrome(String:str)->str: \n",
    "    n= len(String)    \n",
    "    substring:list = []\n",
    "    for i in range(n):\n",
    "        for val in range(i+1,n+1):\n",
    "            substring.append(String[i: val])\n",
    "    plist:list = []\n",
    "    for i in substring:\n",
    "        if palindromeString(i):\n",
    "            plist.append(i)\n",
    "    if  len(sorted(plist,key=len)[-1]) > 1:\n",
    "        return sorted(plist,key=len)[-1]\n",
    "    else:\n",
    "        return None          \n",
    "\n",
    "\n",
    "        \n",
    "x = 'toyota' \n",
    "print(finfPalindrome(x))\n",
    "\n",
    "x = 'camaro'\n",
    "print(finfPalindrome(x))\n",
    "\n",
    "x = 'chrysler'\n",
    "print(finfPalindrome(x))\n",
    "\n",
    "x = 'common'\n",
    "print(finfPalindrome(x))"
   ]
  },
  {
   "cell_type": "code",
   "execution_count": 71,
   "metadata": {},
   "outputs": [
    {
     "name": "stdout",
     "output_type": "stream",
     "text": [
      "a ab abc b bc c "
     ]
    }
   ],
   "source": [
    " \n",
    "# Function to print all sub strings\n",
    "def subString(String,n):\n",
    "    for i in range(n):\n",
    "        for val in range(i+1,n+1):            \n",
    "            print(String[i: val],end=\" \")\n",
    "            \n",
    "             \n",
    "# Driver program to test above function\n",
    "Str = \"abc\"\n",
    "subString(Str,len(Str))\n"
   ]
  },
  {
   "cell_type": "code",
   "execution_count": 5,
   "metadata": {},
   "outputs": [
    {
     "data": {
      "text/plain": [
       "['t',\n",
       " 'to',\n",
       " 'toy',\n",
       " 'toyo',\n",
       " 'toyot',\n",
       " 'toyota',\n",
       " 'o',\n",
       " 'oy',\n",
       " 'oyo',\n",
       " 'oyot',\n",
       " 'oyota',\n",
       " 'y',\n",
       " 'yo',\n",
       " 'yot',\n",
       " 'yota',\n",
       " 'o',\n",
       " 'ot',\n",
       " 'ota',\n",
       " 't',\n",
       " 'ta',\n",
       " 'a']"
      ]
     },
     "execution_count": 5,
     "metadata": {},
     "output_type": "execute_result"
    }
   ],
   "source": [
    "def allSubStrings(String:str,n:int)->list:\n",
    "    list1:list = []\n",
    "    for i in range(n):\n",
    "        count = i+1        \n",
    "        while  count <= n:       \n",
    "            list1.append(String[i:count])\n",
    "            count+=1\n",
    "    \n",
    "    return list1\n",
    "            \n",
    "             \n",
    "# Driver program to test above function\n",
    "Str = \"toyota\"\n",
    "allSubStrings(Str,len(Str))"
   ]
  },
  {
   "cell_type": "code",
   "execution_count": 1,
   "metadata": {},
   "outputs": [
    {
     "data": {
      "text/plain": [
       "'sasdg'"
      ]
     },
     "execution_count": 1,
     "metadata": {},
     "output_type": "execute_result"
    }
   ],
   "source": [
    "x = 'dsasdg'\n",
    "x[1:]"
   ]
  },
  {
   "cell_type": "code",
   "execution_count": 9,
   "metadata": {},
   "outputs": [
    {
     "name": "stdout",
     "output_type": "stream",
     "text": [
      "toyot\n",
      "ama\n",
      "None\n",
      "ommo\n"
     ]
    }
   ],
   "source": [
    "def palindromeString(x:str)->str:\n",
    "    revX:list=[]\n",
    "    for i in range(len(x)-1,-1,-1):        \n",
    "        revX.append(x[i])    \n",
    "    return x == \"\".join(revX)\n",
    "\n",
    "\n",
    "def findPalindrome(list1:list)->str: \n",
    "    plist:list = []\n",
    "    for i in list1:\n",
    "        if palindromeString(i):\n",
    "            plist.append(i)\n",
    "    if  len(sorted(plist,key=len)[-1]) > 1:\n",
    "        return sorted(plist,key=len)[-1]\n",
    "    else:\n",
    "        return None          \n",
    "\n",
    "def allSubStrings(String:str)->list:\n",
    "    n:int = len(String)\n",
    "    list1:list = []\n",
    "    for i in range(n):\n",
    "        count = i+1        \n",
    "        while  count <= n:       \n",
    "            list1.append(String[i:count])\n",
    "            count+=1\n",
    "\n",
    "    return findPalindrome(list1)\n",
    "\n",
    "        \n",
    "x = 'toyota' \n",
    "print(allSubStrings(x))\n",
    "\n",
    "x = 'camaro'\n",
    "print(allSubStrings(x))\n",
    "\n",
    "x = 'chrysler'\n",
    "print(allSubStrings(x))\n",
    "\n",
    "x = 'common'\n",
    "print(allSubStrings(x))"
   ]
  },
  {
   "cell_type": "code",
   "execution_count": null,
   "metadata": {},
   "outputs": [],
   "source": []
  }
 ],
 "metadata": {
  "kernelspec": {
   "display_name": "Python 3",
   "language": "python",
   "name": "python3"
  },
  "language_info": {
   "codemirror_mode": {
    "name": "ipython",
    "version": 3
   },
   "file_extension": ".py",
   "mimetype": "text/x-python",
   "name": "python",
   "nbconvert_exporter": "python",
   "pygments_lexer": "ipython3",
   "version": "3.8.5"
  }
 },
 "nbformat": 4,
 "nbformat_minor": 4
}
