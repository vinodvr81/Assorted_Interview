{
 "cells": [
  {
   "cell_type": "markdown",
   "metadata": {},
   "source": [
    "# two csv files that have common id. Find the id's that has maximum salary amount  and return top 5 salary ids in the form of a dataframe "
   ]
  },
  {
   "cell_type": "code",
   "execution_count": 1,
   "metadata": {},
   "outputs": [],
   "source": [
    "import os\n",
    "os.environ[\"JAVA_HOME\"] = \"/usr/lib/jvm/java-11-openjdk-amd64\"\n",
    "os.environ[\"SPARK_HOME\"] = r\"/home/pyspark/spark-3.0.0-preview2-bin-hadoop2.7\""
   ]
  },
  {
   "cell_type": "code",
   "execution_count": 2,
   "metadata": {},
   "outputs": [],
   "source": [
    "import findspark\n",
    "findspark.init(r'/home/pyspark/spark-3.0.0-preview2-bin-hadoop2.7')"
   ]
  },
  {
   "cell_type": "code",
   "execution_count": 3,
   "metadata": {},
   "outputs": [],
   "source": [
    "import pyspark\n",
    "from pyspark.sql import SparkSession"
   ]
  },
  {
   "cell_type": "code",
   "execution_count": 4,
   "metadata": {},
   "outputs": [
    {
     "data": {
      "text/plain": [
       "DataFrame[Emp ID: string, Name Prefix: string, First Name: string, Middle Initial: string, Last Name: string, Gender: string]"
      ]
     },
     "execution_count": 4,
     "metadata": {},
     "output_type": "execute_result"
    }
   ],
   "source": [
    "spark = SparkSession \\\n",
    "    .builder \\\n",
    "    .appName(\"Python Spark SQL basic example\") \\\n",
    "    .config(\"spark.some.config.option\", \"some-value\") \\\n",
    "    .getOrCreate()\n",
    "\n",
    "spark.read.format(\"csv\").option(\"header\", \"true\").load(\"EmployeeDetails.csv\") "
   ]
  },
  {
   "cell_type": "code",
   "execution_count": 5,
   "metadata": {},
   "outputs": [],
   "source": [
    "df=spark.read.format(\"csv\").option(\"header\", \"true\").load(\"EmployeeDetails.csv\") "
   ]
  },
  {
   "cell_type": "code",
   "execution_count": 6,
   "metadata": {},
   "outputs": [
    {
     "data": {
      "text/plain": [
       "DataFrame[Emp ID: string, Name Prefix: string, First Name: string, Middle Initial: string, Last Name: string, Gender: string]"
      ]
     },
     "execution_count": 6,
     "metadata": {},
     "output_type": "execute_result"
    }
   ],
   "source": [
    "df"
   ]
  },
  {
   "cell_type": "code",
   "execution_count": 7,
   "metadata": {},
   "outputs": [],
   "source": [
    "df_sal = spark.read.format(\"csv\").option(\"header\", \"true\").load(\"EmployeeSalary.csv\") "
   ]
  },
  {
   "cell_type": "code",
   "execution_count": 8,
   "metadata": {},
   "outputs": [
    {
     "data": {
      "text/plain": [
       "DataFrame[Emp ID: string, Age in Yrs.: string, Salary: string, Place Name: string, County: string, City: string, State: string, Zip: string, Region: string]"
      ]
     },
     "execution_count": 8,
     "metadata": {},
     "output_type": "execute_result"
    }
   ],
   "source": [
    "df_sal"
   ]
  },
  {
   "cell_type": "code",
   "execution_count": 9,
   "metadata": {},
   "outputs": [
    {
     "name": "stdout",
     "output_type": "stream",
     "text": [
      "+------+-----------+----------+--------------+---------+------+\n",
      "|Emp ID|Name Prefix|First Name|Middle Initial|Last Name|Gender|\n",
      "+------+-----------+----------+--------------+---------+------+\n",
      "|677509|       Drs.|      Lois|             H|   Walker|     F|\n",
      "|940761|        Ms.|    Brenda|             S| Robinson|     F|\n",
      "|428945|        Dr.|       Joe|             W| Robinson|     M|\n",
      "|408351|       Drs.|     Diane|             I|    Evans|     F|\n",
      "|193819|        Mr.|  Benjamin|             R|  Russell|     M|\n",
      "|499687|        Mr.|   Patrick|             F|   Bailey|     M|\n",
      "|539712|        Ms.|     Nancy|             T|    Baker|     F|\n",
      "|380086|       Mrs.|     Carol|             V|   Murphy|     F|\n",
      "|477616|       Hon.|   Frances|             B|    Young|     F|\n",
      "|162402|       Hon.|     Diana|             T| Peterson|     F|\n",
      "|231469|        Mr.|     Ralph|             L|   Flores|     M|\n",
      "|153989|      Prof.|      Jack|             C|Alexander|     M|\n",
      "|386158|       Mrs.|   Melissa|             Q|     King|     F|\n",
      "|301576|       Hon.|     Wayne|             G|   Watson|     M|\n",
      "|441771|       Mrs.|    Cheryl|             O|    Scott|     F|\n",
      "|528509|       Hon.|     Paula|             G|     Diaz|     F|\n",
      "|912990|        Mr.|    Joshua|             T|  Stewart|     M|\n",
      "|214352|        Ms.|   Theresa|             G|      Lee|     F|\n",
      "|890290|       Hon.|     Julia|             S|    Scott|     F|\n",
      "|622406|        Mr.|    Thomas|             Q|    Lewis|     M|\n",
      "+------+-----------+----------+--------------+---------+------+\n",
      "only showing top 20 rows\n",
      "\n"
     ]
    }
   ],
   "source": [
    "df.show()"
   ]
  },
  {
   "cell_type": "code",
   "execution_count": 10,
   "metadata": {},
   "outputs": [
    {
     "name": "stdout",
     "output_type": "stream",
     "text": [
      "+------+-----------+------+--------------+--------------+--------------+-----+-----+---------+\n",
      "|Emp ID|Age in Yrs.|Salary|    Place Name|        County|          City|State|  Zip|   Region|\n",
      "+------+-----------+------+--------------+--------------+--------------+-----+-----+---------+\n",
      "|677509|      36.36|168251|        Denver|        Denver|        Denver|   CO|80224|     West|\n",
      "|940761|      47.02| 51063|     Stonewall|       De Soto|     Stonewall|   LA|71078|    South|\n",
      "|428945|      54.15| 50155|  Michigantown|       Clinton|  Michigantown|   IN|46057|  Midwest|\n",
      "|408351|      39.67|180294|      Hydetown|      Crawford|      Hydetown|   PA|16328|Northeast|\n",
      "|193819|      40.31|117642|       Fremont|       Waupaca|       Fremont|   WI|54940|  Midwest|\n",
      "|499687|      34.86| 72305|     Macksburg|       Madison|     Macksburg|   IA|50155|  Midwest|\n",
      "|539712|      22.14| 98189|       Atlanta|        Fulton|       Atlanta|   GA|30334|    South|\n",
      "|380086|      59.12| 60918|   Blanchester|       Clinton|   Blanchester|   OH|45107|  Midwest|\n",
      "|477616|      58.18|121587|       Delmita|         Starr|       Delmita|   TX|78536|    South|\n",
      "|162402|      29.73| 43010|Eureka Springs|       Carroll|Eureka Springs|   AR|72632|    South|\n",
      "|231469|       42.5|118457|       Sabetha|        Nemaha|       Sabetha|   KS|66534|  Midwest|\n",
      "|153989|      22.21| 82965|     Las Vegas|         Clark|     Las Vegas|   NV|89170|     West|\n",
      "|386158|      45.45|166892| New Matamoras|    Washington| New Matamoras|   OH|45767|  Midwest|\n",
      "|301576|       21.1| 92758|         Maida|      Cavalier|         Maida|   ND|58255|  Midwest|\n",
      "|441771|      59.47| 92220|      Quecreek|      Somerset|      Quecreek|   PA|15555|Northeast|\n",
      "|528509|      50.97|152654|    Beulaville|        Duplin|    Beulaville|   NC|28518|    South|\n",
      "|912990|      47.23|184896|   New Douglas|       Madison|   New Douglas|   IL|62074|  Midwest|\n",
      "|214352|      24.66|197537|   Toeterville|      Mitchell|   Toeterville|   IA|50481|  Midwest|\n",
      "|890290|      58.08|141518| Primm Springs|       Hickman| Primm Springs|   TN|38476|    South|\n",
      "|622406|      49.85| 73862|     Dutchtown|Cape Girardeau|     Dutchtown|   MO|63745|  Midwest|\n",
      "+------+-----------+------+--------------+--------------+--------------+-----+-----+---------+\n",
      "only showing top 20 rows\n",
      "\n"
     ]
    }
   ],
   "source": [
    "df_sal.show()"
   ]
  },
  {
   "cell_type": "code",
   "execution_count": 11,
   "metadata": {},
   "outputs": [
    {
     "name": "stdout",
     "output_type": "stream",
     "text": [
      "+------+-----------+----------+--------------+---------+------+------+-----------+------+--------------+--------------+--------------+-----+-----+---------+\n",
      "|Emp ID|Name Prefix|First Name|Middle Initial|Last Name|Gender|Emp ID|Age in Yrs.|Salary|    Place Name|        County|          City|State|  Zip|   Region|\n",
      "+------+-----------+----------+--------------+---------+------+------+-----------+------+--------------+--------------+--------------+-----+-----+---------+\n",
      "|677509|       Drs.|      Lois|             H|   Walker|     F|677509|      36.36|168251|        Denver|        Denver|        Denver|   CO|80224|     West|\n",
      "|940761|        Ms.|    Brenda|             S| Robinson|     F|940761|      47.02| 51063|     Stonewall|       De Soto|     Stonewall|   LA|71078|    South|\n",
      "|428945|        Dr.|       Joe|             W| Robinson|     M|428945|      54.15| 50155|  Michigantown|       Clinton|  Michigantown|   IN|46057|  Midwest|\n",
      "|408351|       Drs.|     Diane|             I|    Evans|     F|408351|      39.67|180294|      Hydetown|      Crawford|      Hydetown|   PA|16328|Northeast|\n",
      "|193819|        Mr.|  Benjamin|             R|  Russell|     M|193819|      40.31|117642|       Fremont|       Waupaca|       Fremont|   WI|54940|  Midwest|\n",
      "|499687|        Mr.|   Patrick|             F|   Bailey|     M|499687|      34.86| 72305|     Macksburg|       Madison|     Macksburg|   IA|50155|  Midwest|\n",
      "|539712|        Ms.|     Nancy|             T|    Baker|     F|539712|      22.14| 98189|       Atlanta|        Fulton|       Atlanta|   GA|30334|    South|\n",
      "|380086|       Mrs.|     Carol|             V|   Murphy|     F|380086|      59.12| 60918|   Blanchester|       Clinton|   Blanchester|   OH|45107|  Midwest|\n",
      "|477616|       Hon.|   Frances|             B|    Young|     F|477616|      58.18|121587|       Delmita|         Starr|       Delmita|   TX|78536|    South|\n",
      "|162402|       Hon.|     Diana|             T| Peterson|     F|162402|      29.73| 43010|Eureka Springs|       Carroll|Eureka Springs|   AR|72632|    South|\n",
      "|231469|        Mr.|     Ralph|             L|   Flores|     M|231469|       42.5|118457|       Sabetha|        Nemaha|       Sabetha|   KS|66534|  Midwest|\n",
      "|153989|      Prof.|      Jack|             C|Alexander|     M|153989|      22.21| 82965|     Las Vegas|         Clark|     Las Vegas|   NV|89170|     West|\n",
      "|386158|       Mrs.|   Melissa|             Q|     King|     F|386158|      45.45|166892| New Matamoras|    Washington| New Matamoras|   OH|45767|  Midwest|\n",
      "|301576|       Hon.|     Wayne|             G|   Watson|     M|301576|       21.1| 92758|         Maida|      Cavalier|         Maida|   ND|58255|  Midwest|\n",
      "|441771|       Mrs.|    Cheryl|             O|    Scott|     F|441771|      59.47| 92220|      Quecreek|      Somerset|      Quecreek|   PA|15555|Northeast|\n",
      "|528509|       Hon.|     Paula|             G|     Diaz|     F|528509|      50.97|152654|    Beulaville|        Duplin|    Beulaville|   NC|28518|    South|\n",
      "|912990|        Mr.|    Joshua|             T|  Stewart|     M|912990|      47.23|184896|   New Douglas|       Madison|   New Douglas|   IL|62074|  Midwest|\n",
      "|214352|        Ms.|   Theresa|             G|      Lee|     F|214352|      24.66|197537|   Toeterville|      Mitchell|   Toeterville|   IA|50481|  Midwest|\n",
      "|890290|       Hon.|     Julia|             S|    Scott|     F|890290|      58.08|141518| Primm Springs|       Hickman| Primm Springs|   TN|38476|    South|\n",
      "|622406|        Mr.|    Thomas|             Q|    Lewis|     M|622406|      49.85| 73862|     Dutchtown|Cape Girardeau|     Dutchtown|   MO|63745|  Midwest|\n",
      "+------+-----------+----------+--------------+---------+------+------+-----------+------+--------------+--------------+--------------+-----+-----+---------+\n",
      "only showing top 20 rows\n",
      "\n"
     ]
    }
   ],
   "source": [
    "df.join(df_sal, df[\"Emp ID\"]==df_sal[\"Emp ID\"]).show()"
   ]
  },
  {
   "cell_type": "code",
   "execution_count": 12,
   "metadata": {},
   "outputs": [],
   "source": [
    "df_comb = df.join(df_sal, df[\"Emp ID\"]==df_sal[\"Emp ID\"])"
   ]
  },
  {
   "cell_type": "code",
   "execution_count": 13,
   "metadata": {},
   "outputs": [
    {
     "data": {
      "text/plain": [
       "DataFrame[Emp ID: string, Name Prefix: string, First Name: string, Middle Initial: string, Last Name: string, Gender: string, Emp ID: string, Age in Yrs.: string, Salary: string, Place Name: string, County: string, City: string, State: string, Zip: string, Region: string]"
      ]
     },
     "execution_count": 13,
     "metadata": {},
     "output_type": "execute_result"
    }
   ],
   "source": [
    "df_comb"
   ]
  },
  {
   "cell_type": "code",
   "execution_count": 14,
   "metadata": {},
   "outputs": [
    {
     "name": "stdout",
     "output_type": "stream",
     "text": [
      "+------+-----------+----------+--------------+---------+------+-----------+------+--------------+--------------+--------------+-----+-----+---------+\n",
      "|Emp ID|Name Prefix|First Name|Middle Initial|Last Name|Gender|Age in Yrs.|Salary|    Place Name|        County|          City|State|  Zip|   Region|\n",
      "+------+-----------+----------+--------------+---------+------+-----------+------+--------------+--------------+--------------+-----+-----+---------+\n",
      "|677509|       Drs.|      Lois|             H|   Walker|     F|      36.36|168251|        Denver|        Denver|        Denver|   CO|80224|     West|\n",
      "|940761|        Ms.|    Brenda|             S| Robinson|     F|      47.02| 51063|     Stonewall|       De Soto|     Stonewall|   LA|71078|    South|\n",
      "|428945|        Dr.|       Joe|             W| Robinson|     M|      54.15| 50155|  Michigantown|       Clinton|  Michigantown|   IN|46057|  Midwest|\n",
      "|408351|       Drs.|     Diane|             I|    Evans|     F|      39.67|180294|      Hydetown|      Crawford|      Hydetown|   PA|16328|Northeast|\n",
      "|193819|        Mr.|  Benjamin|             R|  Russell|     M|      40.31|117642|       Fremont|       Waupaca|       Fremont|   WI|54940|  Midwest|\n",
      "|499687|        Mr.|   Patrick|             F|   Bailey|     M|      34.86| 72305|     Macksburg|       Madison|     Macksburg|   IA|50155|  Midwest|\n",
      "|539712|        Ms.|     Nancy|             T|    Baker|     F|      22.14| 98189|       Atlanta|        Fulton|       Atlanta|   GA|30334|    South|\n",
      "|380086|       Mrs.|     Carol|             V|   Murphy|     F|      59.12| 60918|   Blanchester|       Clinton|   Blanchester|   OH|45107|  Midwest|\n",
      "|477616|       Hon.|   Frances|             B|    Young|     F|      58.18|121587|       Delmita|         Starr|       Delmita|   TX|78536|    South|\n",
      "|162402|       Hon.|     Diana|             T| Peterson|     F|      29.73| 43010|Eureka Springs|       Carroll|Eureka Springs|   AR|72632|    South|\n",
      "|231469|        Mr.|     Ralph|             L|   Flores|     M|       42.5|118457|       Sabetha|        Nemaha|       Sabetha|   KS|66534|  Midwest|\n",
      "|153989|      Prof.|      Jack|             C|Alexander|     M|      22.21| 82965|     Las Vegas|         Clark|     Las Vegas|   NV|89170|     West|\n",
      "|386158|       Mrs.|   Melissa|             Q|     King|     F|      45.45|166892| New Matamoras|    Washington| New Matamoras|   OH|45767|  Midwest|\n",
      "|301576|       Hon.|     Wayne|             G|   Watson|     M|       21.1| 92758|         Maida|      Cavalier|         Maida|   ND|58255|  Midwest|\n",
      "|441771|       Mrs.|    Cheryl|             O|    Scott|     F|      59.47| 92220|      Quecreek|      Somerset|      Quecreek|   PA|15555|Northeast|\n",
      "|528509|       Hon.|     Paula|             G|     Diaz|     F|      50.97|152654|    Beulaville|        Duplin|    Beulaville|   NC|28518|    South|\n",
      "|912990|        Mr.|    Joshua|             T|  Stewart|     M|      47.23|184896|   New Douglas|       Madison|   New Douglas|   IL|62074|  Midwest|\n",
      "|214352|        Ms.|   Theresa|             G|      Lee|     F|      24.66|197537|   Toeterville|      Mitchell|   Toeterville|   IA|50481|  Midwest|\n",
      "|890290|       Hon.|     Julia|             S|    Scott|     F|      58.08|141518| Primm Springs|       Hickman| Primm Springs|   TN|38476|    South|\n",
      "|622406|        Mr.|    Thomas|             Q|    Lewis|     M|      49.85| 73862|     Dutchtown|Cape Girardeau|     Dutchtown|   MO|63745|  Midwest|\n",
      "+------+-----------+----------+--------------+---------+------+-----------+------+--------------+--------------+--------------+-----+-----+---------+\n",
      "only showing top 20 rows\n",
      "\n"
     ]
    }
   ],
   "source": [
    "df.join(df_sal, on=[\"Emp ID\"], how=\"inner\").show()"
   ]
  },
  {
   "cell_type": "code",
   "execution_count": 15,
   "metadata": {},
   "outputs": [],
   "source": [
    "df_inner = df.join(df_sal,on=[\"Emp ID\"],how=\"inner\")"
   ]
  },
  {
   "cell_type": "code",
   "execution_count": 16,
   "metadata": {},
   "outputs": [
    {
     "name": "stdout",
     "output_type": "stream",
     "text": [
      "+------+\n",
      "|Salary|\n",
      "+------+\n",
      "|168251|\n",
      "| 51063|\n",
      "| 50155|\n",
      "|180294|\n",
      "|117642|\n",
      "| 72305|\n",
      "| 98189|\n",
      "| 60918|\n",
      "|121587|\n",
      "| 43010|\n",
      "|118457|\n",
      "| 82965|\n",
      "|166892|\n",
      "| 92758|\n",
      "| 92220|\n",
      "|152654|\n",
      "|184896|\n",
      "|197537|\n",
      "|141518|\n",
      "| 73862|\n",
      "+------+\n",
      "only showing top 20 rows\n",
      "\n"
     ]
    }
   ],
   "source": [
    "df_inner.groupBy(\"Salary\").max().show()"
   ]
  },
  {
   "cell_type": "code",
   "execution_count": 17,
   "metadata": {
    "scrolled": true
   },
   "outputs": [
    {
     "name": "stdout",
     "output_type": "stream",
     "text": [
      "+------+-----------+----------+--------------+---------+------+-----------+------+----------+-------------+---------+-----+-----+-------+\n",
      "|Emp ID|Name Prefix|First Name|Middle Initial|Last Name|Gender|Age in Yrs.|Salary|Place Name|       County|     City|State|  Zip| Region|\n",
      "+------+-----------+----------+--------------+---------+------+-----------+------+----------+-------------+---------+-----+-----+-------+\n",
      "|491943|       Mrs.|     Nancy|             P|   Howard|     F|      56.27|101553|      Saxe|    Charlotte|     Saxe|   VA|23967|  South|\n",
      "|758872|        Mr.|     Henry|             Y|  Jenkins|     M|      32.75|102384| Riverside|       Platte|Riverside|   MO|64150|Midwest|\n",
      "|477253|       Mrs.|      Anne|             L|  Russell|     F|      28.02|103160| Stockholm|        Grant|Stockholm|   SD|57264|Midwest|\n",
      "|802554|        Mr.|      Ryan|             V|Alexander|     M|      24.01|106628|   Jarreau|Pointe Coupee|  Jarreau|   LA|70749|  South|\n",
      "|333476|       Hon.|      Mary|             P|   Wilson|     F|      49.69|109394| Nashville|     Davidson|Nashville|   TN|37219|  South|\n",
      "+------+-----------+----------+--------------+---------+------+-----------+------+----------+-------------+---------+-----+-----+-------+\n",
      "only showing top 5 rows\n",
      "\n"
     ]
    }
   ],
   "source": [
    "df_inner.orderBy(\"Salary\",descending=True).show(5)"
   ]
  },
  {
   "cell_type": "code",
   "execution_count": 18,
   "metadata": {},
   "outputs": [
    {
     "name": "stdout",
     "output_type": "stream",
     "text": [
      "+------+-----------+----------+--------------+---------+------+-----------+------+----------+--------+--------+-----+-----+---------+\n",
      "|Emp ID|Name Prefix|First Name|Middle Initial|Last Name|Gender|Age in Yrs.|Salary|Place Name|  County|    City|State|  Zip|   Region|\n",
      "+------+-----------+----------+--------------+---------+------+-----------+------+----------+--------+--------+-----+-----+---------+\n",
      "|677509|       Drs.|      Lois|             H|   Walker|     F|      36.36|168251|    Denver|  Denver|  Denver|   CO|80224|     West|\n",
      "|408351|       Drs.|     Diane|             I|    Evans|     F|      39.67|180294|  Hydetown|Crawford|Hydetown|   PA|16328|Northeast|\n",
      "|193819|        Mr.|  Benjamin|             R|  Russell|     M|      40.31|117642|   Fremont| Waupaca| Fremont|   WI|54940|  Midwest|\n",
      "|477616|       Hon.|   Frances|             B|    Young|     F|      58.18|121587|   Delmita|   Starr| Delmita|   TX|78536|    South|\n",
      "|231469|        Mr.|     Ralph|             L|   Flores|     M|       42.5|118457|   Sabetha|  Nemaha| Sabetha|   KS|66534|  Midwest|\n",
      "+------+-----------+----------+--------------+---------+------+-----------+------+----------+--------+--------+-----+-----+---------+\n",
      "only showing top 5 rows\n",
      "\n"
     ]
    }
   ],
   "source": [
    "df_inner.filter(df_inner[\"Salary\"]>100000).show(5)"
   ]
  },
  {
   "cell_type": "code",
   "execution_count": 19,
   "metadata": {},
   "outputs": [
    {
     "name": "stdout",
     "output_type": "stream",
     "text": [
      "+------+-----------+----------+--------------+---------+------+-----------+------+--------------------+--------------+--------------------+-----+-----+-------+\n",
      "|Emp ID|Name Prefix|First Name|Middle Initial|Last Name|Gender|Age in Yrs.|Salary|          Place Name|        County|                City|State|  Zip| Region|\n",
      "+------+-----------+----------+--------------+---------+------+-----------+------+--------------------+--------------+--------------------+-----+-----+-------+\n",
      "|979607|        Ms.|     Carol|             J|  Edwards|     F|      22.64| 93967|          Shreveport|         Caddo|          Shreveport|   LA|71162|  South|\n",
      "|971640|      Prof.|  Clarence|             A|     Ross|     M|      56.66|165272|              Oneida|         Scott|              Oneida|   TN|37841|  South|\n",
      "|969964|       Hon.|    Janice|             S|   Parker|     F|      37.57|147641|Whiteman Air Forc...|       Johnson|Whiteman Air Forc...|   MO|65305|Midwest|\n",
      "|969580|      Prof.|   Matthew|             L|   Turner|     M|      23.77| 52237|         Heathsville|Northumberland|         Heathsville|   VA|22473|  South|\n",
      "|958326|        Mr.|     Larry|             T|   Miller|     M|      28.76| 97904|    East Saint Louis|     St. Clair|    East Saint Louis|   IL|62201|Midwest|\n",
      "+------+-----------+----------+--------------+---------+------+-----------+------+--------------------+--------------+--------------------+-----+-----+-------+\n",
      "only showing top 5 rows\n",
      "\n"
     ]
    }
   ],
   "source": [
    "df_inner.orderBy(\"Emp ID\",\"Salary\",ascending=False).show(5)"
   ]
  },
  {
   "cell_type": "code",
   "execution_count": 20,
   "metadata": {},
   "outputs": [
    {
     "data": {
      "text/plain": [
       "<bound method DataFrame.printSchema of DataFrame[Emp ID: string, Name Prefix: string, First Name: string, Middle Initial: string, Last Name: string, Gender: string, Age in Yrs.: string, Salary: string, Place Name: string, County: string, City: string, State: string, Zip: string, Region: string]>"
      ]
     },
     "execution_count": 20,
     "metadata": {},
     "output_type": "execute_result"
    }
   ],
   "source": [
    "df_inner.printSchema"
   ]
  },
  {
   "cell_type": "code",
   "execution_count": 21,
   "metadata": {},
   "outputs": [
    {
     "name": "stdout",
     "output_type": "stream",
     "text": [
      "+-------+------------------+-----------+----------+--------------+---------+------+-----------------+-----------------+----------+------------------+------+-----+-----------------+-------+\n",
      "|summary|            Emp ID|Name Prefix|First Name|Middle Initial|Last Name|Gender|      Age in Yrs.|           Salary|Place Name|            County|  City|State|              Zip| Region|\n",
      "+-------+------------------+-----------+----------+--------------+---------+------+-----------------+-----------------+----------+------------------+------+-----+-----------------+-------+\n",
      "|  count|               100|        100|       100|           100|      100|   100|              100|              100|       100|               100|   100|  100|              100|    100|\n",
      "|   mean|          547652.1|       null|      null|          null|     null|  null|39.23870000000001|        119738.09|      null|              null|  null| null|         53011.23|   null|\n",
      "| stddev|257664.16679011943|       null|      null|          null|     null|  null|12.06625243345583|46185.27819425479|      null|              null|  null| null|23007.33684773954|   null|\n",
      "|    min|            134841|        Dr.|     Aaron|             A|    Adams|     F|             21.1|           101553|    Albion|         Baltimore|Albion|   AK|            10087|Midwest|\n",
      "|    max|            979607|      Prof.|   William|             Z|    Young|     M|            59.47|            98189|    Wright|Yukon-Koyukuk (CA)|Wright|   WY|            99791|   West|\n",
      "+-------+------------------+-----------+----------+--------------+---------+------+-----------------+-----------------+----------+------------------+------+-----+-----------------+-------+\n",
      "\n"
     ]
    }
   ],
   "source": [
    "df_inner.describe().show()"
   ]
  },
  {
   "cell_type": "code",
   "execution_count": 22,
   "metadata": {},
   "outputs": [
    {
     "name": "stdout",
     "output_type": "stream",
     "text": [
      "+------+\n",
      "|Salary|\n",
      "+------+\n",
      "|168251|\n",
      "| 51063|\n",
      "| 50155|\n",
      "|180294|\n",
      "|117642|\n",
      "+------+\n",
      "only showing top 5 rows\n",
      "\n"
     ]
    }
   ],
   "source": [
    "df_inner.select(\"Salary\").show(5)"
   ]
  },
  {
   "cell_type": "code",
   "execution_count": 24,
   "metadata": {},
   "outputs": [
    {
     "name": "stdout",
     "output_type": "stream",
     "text": [
      "+------+\n",
      "|Salary|\n",
      "+------+\n",
      "|101553|\n",
      "|102384|\n",
      "|103160|\n",
      "|106628|\n",
      "|109394|\n",
      "+------+\n",
      "only showing top 5 rows\n",
      "\n"
     ]
    }
   ],
   "source": [
    "df_inner.select('Salary').orderBy('Salary').show(5)"
   ]
  },
  {
   "cell_type": "code",
   "execution_count": 25,
   "metadata": {},
   "outputs": [
    {
     "name": "stdout",
     "output_type": "stream",
     "text": [
      "+------+\n",
      "|Salary|\n",
      "+------+\n",
      "|101553|\n",
      "|102384|\n",
      "|103160|\n",
      "|106628|\n",
      "|109394|\n",
      "+------+\n",
      "only showing top 5 rows\n",
      "\n"
     ]
    }
   ],
   "source": [
    "df_inner.select('Salary').orderBy('Salary',descending=True).show(5)"
   ]
  },
  {
   "cell_type": "code",
   "execution_count": 26,
   "metadata": {},
   "outputs": [
    {
     "name": "stdout",
     "output_type": "stream",
     "text": [
      "+------+\n",
      "|Salary|\n",
      "+------+\n",
      "|101553|\n",
      "|102384|\n",
      "|103160|\n",
      "|106628|\n",
      "|109394|\n",
      "+------+\n",
      "only showing top 5 rows\n",
      "\n"
     ]
    }
   ],
   "source": [
    "df_inner.select('Salary').orderBy('Salary',ascending=True).show(5)"
   ]
  },
  {
   "cell_type": "code",
   "execution_count": 27,
   "metadata": {},
   "outputs": [
    {
     "name": "stdout",
     "output_type": "stream",
     "text": [
      "+------+\n",
      "|Salary|\n",
      "+------+\n",
      "|101553|\n",
      "|102384|\n",
      "|103160|\n",
      "|106628|\n",
      "|109394|\n",
      "|111673|\n",
      "|112715|\n",
      "|113256|\n",
      "|114257|\n",
      "|114426|\n",
      "|114481|\n",
      "|116629|\n",
      "|117642|\n",
      "|118457|\n",
      "|119321|\n",
      "+------+\n",
      "only showing top 15 rows\n",
      "\n"
     ]
    }
   ],
   "source": [
    "df_inner.select('Salary').orderBy('Salary',descending=True).show(15)"
   ]
  },
  {
   "cell_type": "code",
   "execution_count": 28,
   "metadata": {},
   "outputs": [
    {
     "name": "stdout",
     "output_type": "stream",
     "text": [
      "+------+\n",
      "|Salary|\n",
      "+------+\n",
      "+------+\n",
      "only showing top 0 rows\n",
      "\n"
     ]
    }
   ],
   "source": [
    "df_inner.select('Salary').orderBy('Salary',descending=True).show(-5)"
   ]
  },
  {
   "cell_type": "code",
   "execution_count": 29,
   "metadata": {},
   "outputs": [
    {
     "name": "stdout",
     "output_type": "stream",
     "text": [
      "+------+\n",
      "|Salary|\n",
      "+------+\n",
      "|101553|\n",
      "|102384|\n",
      "|103160|\n",
      "|106628|\n",
      "|109394|\n",
      "+------+\n",
      "only showing top 5 rows\n",
      "\n"
     ]
    }
   ],
   "source": [
    "df_inner.select('Salary').orderBy('Salary',descending=False).show(5)"
   ]
  },
  {
   "cell_type": "code",
   "execution_count": 33,
   "metadata": {},
   "outputs": [
    {
     "data": {
      "text/plain": [
       "<pyspark.sql.group.GroupedData at 0x7fc4ec098d50>"
      ]
     },
     "execution_count": 33,
     "metadata": {},
     "output_type": "execute_result"
    }
   ],
   "source": [
    "df_inner.select('Salary').groupBy('Salary')"
   ]
  },
  {
   "cell_type": "code",
   "execution_count": null,
   "metadata": {},
   "outputs": [],
   "source": []
  },
  {
   "cell_type": "code",
   "execution_count": null,
   "metadata": {},
   "outputs": [],
   "source": []
  }
 ],
 "metadata": {
  "kernelspec": {
   "display_name": "Python 3",
   "language": "python",
   "name": "python3"
  },
  "language_info": {
   "codemirror_mode": {
    "name": "ipython",
    "version": 3
   },
   "file_extension": ".py",
   "mimetype": "text/x-python",
   "name": "python",
   "nbconvert_exporter": "python",
   "pygments_lexer": "ipython3",
   "version": "3.7.6"
  }
 },
 "nbformat": 4,
 "nbformat_minor": 4
}
