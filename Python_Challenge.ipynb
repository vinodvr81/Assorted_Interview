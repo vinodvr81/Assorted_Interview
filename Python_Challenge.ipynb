{
 "cells": [
  {
   "cell_type": "markdown",
   "metadata": {},
   "source": [
    "Write a function that will take five arguments :\n",
    "\n",
    "1)Number of sellers ---- data type Int\n",
    "\n",
    "2)Top sellers from the Number of Sellers -- data type Int\n",
    "\n",
    "3)List of sellers type -- data type list(str)\n",
    "\n",
    "4)Total Number of review  -- data type (int)\n",
    "\n",
    "5)review -- data type (list(str)\n"
   ]
  },
  {
   "cell_type": "code",
   "execution_count": 1,
   "metadata": {},
   "outputs": [
    {
     "data": {
      "text/plain": [
       "[3, 2]"
      ]
     },
     "execution_count": 1,
     "metadata": {},
     "output_type": "execute_result"
    }
   ],
   "source": [
    "def choose_sell(noOfSeller:int,topSellers:int,listSellers:list,noOfreview:int,review:list):\n",
    "    \n",
    "    output = list()\n",
    "    dict1 = dict()\n",
    "    str1 = review[0].rstrip().lstrip()\n",
    "    list2 = str1.split(\" \")\n",
    "    #for sub1 in range(noOfreview):        \n",
    "    for sub3 in list2:\n",
    "        if sub3 in listSellers:\n",
    "            output.append(sub3)\n",
    "                    \n",
    "    freq = dict()\n",
    "    for item in output: \n",
    "        if item in freq.keys(): \n",
    "            freq[item] += 1\n",
    "        else: \n",
    "            freq[item] = 1\n",
    "    sort1 = sorted(freq.values())\n",
    "    sort1.reverse()\n",
    "    outres = sort1[:topSellers]\n",
    "    return outres\n",
    "                \n",
    "            \n",
    "    \n",
    "    \n",
    "    \n",
    "choose_sell(5,2,['tyre','cream','shampoo','paste','balde','soap'],15,['ok tyre is very good tyre and with out that tyre my paste wont soap and shampoo to is a good shampoo'])   \n",
    "    \n",
    "    "
   ]
  },
  {
   "cell_type": "code",
   "execution_count": 2,
   "metadata": {},
   "outputs": [
    {
     "name": "stdout",
     "output_type": "stream",
     "text": [
      " 1 :  5\n",
      " 5 :  2\n",
      " 3 :  3\n",
      " 4 :  3\n",
      " 2 :  4\n"
     ]
    }
   ],
   "source": [
    "def CountFrequency(my_list): \n",
    "  \n",
    "    # Creating an empty dictionary  \n",
    "    freq = {} \n",
    "    for item in my_list: \n",
    "        if item in freq: \n",
    "            freq[item] += 1\n",
    "        else: \n",
    "            freq[item] = 1\n",
    "  \n",
    "    for key, value in freq.items(): \n",
    "        print (\"% d : % d\"%(key, value)) \n",
    "  \n",
    "# Driver function \n",
    "if __name__ == \"__main__\":  \n",
    "    my_list =[1, 1, 1, 5, 5, 3, 1, 3, 3, 1, 4, 4, 4, 2, 2, 2, 2] \n",
    "  \n",
    "    CountFrequency(my_list)"
   ]
  },
  {
   "cell_type": "markdown",
   "metadata": {},
   "source": [
    "Sort a list of alphnummeric data"
   ]
  },
  {
   "cell_type": "code",
   "execution_count": 3,
   "metadata": {},
   "outputs": [
    {
     "name": "stdout",
     "output_type": "stream",
     "text": [
      "['AA4', 'AA14', 'AL3', 'AL13']\n"
     ]
    }
   ],
   "source": [
    "import re \n",
    "\n",
    "def sorted_nicely(l:list): \n",
    "    \"\"\" Sort the given iterable in the way that humans expect.\"\"\" \n",
    "    convert = lambda text: int(text) if text.isdigit() else text \n",
    "    alphanum_key = lambda key: [ convert(c) for c in re.split('([0-9]+)', key) ] \n",
    "    return sorted(l, key = alphanum_key)\n",
    "\n",
    "l = ['AL13', 'AL3', 'AA14', 'AA4']\n",
    "print(sorted_nicely(l))"
   ]
  },
  {
   "cell_type": "code",
   "execution_count": 4,
   "metadata": {},
   "outputs": [
    {
     "name": "stdout",
     "output_type": "stream",
     "text": [
      "Help on built-in function sorted in module builtins:\n",
      "\n",
      "sorted(iterable, /, *, key=None, reverse=False)\n",
      "    Return a new list containing all items from the iterable in ascending order.\n",
      "    \n",
      "    A custom key function can be supplied to customize the sort order, and the\n",
      "    reverse flag can be set to request the result in descending order.\n",
      "\n",
      "Help on function split in module re:\n",
      "\n",
      "split(pattern, string, maxsplit=0, flags=0)\n",
      "    Split the source string by the occurrences of the pattern,\n",
      "    returning a list containing the resulting substrings.  If\n",
      "    capturing parentheses are used in pattern, then the text of all\n",
      "    groups in the pattern are also returned as part of the resulting\n",
      "    list.  If maxsplit is nonzero, at most maxsplit splits occur,\n",
      "    and the remainder of the string is returned as the final element\n",
      "    of the list.\n",
      "\n"
     ]
    }
   ],
   "source": [
    "help(sorted)\n",
    "import re\n",
    "help(re.split)"
   ]
  },
  {
   "cell_type": "code",
   "execution_count": 5,
   "metadata": {},
   "outputs": [
    {
     "name": "stdout",
     "output_type": "stream",
     "text": [
      "['AA14', 'AA4', 'AL13', 'AL3']\n"
     ]
    }
   ],
   "source": [
    "def sort_nicely(l:list):\n",
    "    \n",
    "    r = sorted(l, key=lambda item: (int(item.partition(' ')[0])\n",
    "                                       if item[0].isdigit() else float('inf'), item))  \n",
    "    return r\n",
    "l = ['AL13', 'AL3', 'AA14', 'AA4']\n",
    "print(sort_nicely(l))    "
   ]
  },
  {
   "cell_type": "code",
   "execution_count": 6,
   "metadata": {},
   "outputs": [
    {
     "name": "stdout",
     "output_type": "stream",
     "text": [
      "['AL13', 'AL3', 'AA14', 'AA4']\n"
     ]
    }
   ],
   "source": [
    "def sort_using_key(lst:list):     \n",
    "    lst = [str(i) for i in lst] \n",
    "    list1 = sorted(lst) \n",
    "    lst = [int(i) if i.isdigit() else i for i in lst ] \n",
    "    return lst \n",
    "l = ['AL13', 'AL3', 'AA14', 'AA4']\n",
    "print(sort_using_key(l))\n",
    "\n"
   ]
  },
  {
   "cell_type": "code",
   "execution_count": 7,
   "metadata": {},
   "outputs": [
    {
     "name": "stdout",
     "output_type": "stream",
     "text": [
      "['AA4', 'AA14', 'AL3', 'AL13']\n"
     ]
    }
   ],
   "source": [
    "import re \n",
    "\n",
    "def sorted_nicely(l:list): \n",
    "    \"\"\" Sort the given iterable in the way that humans expect.\"\"\" \n",
    "    convert = lambda text: int(text) if text.isdigit() else text \n",
    "    alphanum_key = lambda key: [ convert(c) for c in re.split('([0-9]+)', key) ] \n",
    "    \n",
    "    return sorted(l, key = alphanum_key)\n",
    "\n",
    "l = ['AL13', 'AL3', 'AA14', 'AA4']\n",
    "print(sorted_nicely(l))"
   ]
  },
  {
   "cell_type": "code",
   "execution_count": 8,
   "metadata": {},
   "outputs": [
    {
     "name": "stdout",
     "output_type": "stream",
     "text": [
      "['AA4', 'AA14', 'AL3', 'AL13']\n"
     ]
    }
   ],
   "source": [
    "import re\n",
    "def mychoice(s:str):    \n",
    "    l1 = list()\n",
    "    for x in re.split(r'(\\d+)', s):\n",
    "        if  x.isdigit():\n",
    "            l1.append(int(x))\n",
    "        else:\n",
    "            l1.append(x)\n",
    "    return l1\n",
    "     \n",
    "\n",
    "l = ['AL13', 'AL3', 'AA14', 'AA4']\n",
    "\n",
    "print(sorted(l,key=mychoice))    "
   ]
  },
  {
   "cell_type": "code",
   "execution_count": 9,
   "metadata": {},
   "outputs": [
    {
     "name": "stdout",
     "output_type": "stream",
     "text": [
      "['AA4', 'AA14', 'AL3', 'AL13']\n"
     ]
    }
   ],
   "source": [
    "import re \n",
    "\n",
    "def sort_one(t:list):    \n",
    "\n",
    "    def sorted_m1(l:str): \n",
    "        s = list()\n",
    "        for c in re.split('([0-9]+)', l):         \n",
    "        \n",
    "            s.append(conv(c))\n",
    "        return s\n",
    "\n",
    "    def conv(c:str):\n",
    "        if c.isdigit():\n",
    "            return int(c)\n",
    "\n",
    "        else:\n",
    "            return c             \n",
    "            \n",
    "    return sorted(t, key = sorted_m1)\n",
    "\n",
    "l = ['AL13', 'AL3', 'AA14', 'AA4']\n",
    "print(sort_one(l))\n",
    "        \n",
    "        "
   ]
  },
  {
   "cell_type": "code",
   "execution_count": 10,
   "metadata": {},
   "outputs": [
    {
     "data": {
      "text/plain": [
       "['AA4', 'AA14', 'AL3', 'AL13']"
      ]
     },
     "execution_count": 10,
     "metadata": {},
     "output_type": "execute_result"
    }
   ],
   "source": [
    "import re\n",
    "def alpha_sort(l:list):\n",
    "    \n",
    "    def mychoice1(s:str):   \n",
    "        l1  = list()\n",
    "        for x in re.split(r'(\\d+)', s):\n",
    "            if not x.isdigit():\n",
    "                l1.append(x)\n",
    "            else:\n",
    "                l1.append(int(x))\n",
    "        return l1\n",
    "    return sorted(l,key=mychoice1)\n",
    "     \n",
    "\n",
    "l = ['AL13', 'AL3', 'AA14', 'AA4']\n",
    "\n",
    "alpha_sort(l)"
   ]
  },
  {
   "cell_type": "code",
   "execution_count": 11,
   "metadata": {},
   "outputs": [
    {
     "name": "stdout",
     "output_type": "stream",
     "text": [
      "['AA4', 'AA14', 'AL3', 'AL13']\n"
     ]
    }
   ],
   "source": [
    "import re\n",
    "\n",
    "def check_digit(x:str):     \n",
    "        if not x.isdigit():\n",
    "            return x\n",
    "        else:\n",
    "            return int(x)\n",
    "        \n",
    "def loop_text(x:str):\n",
    "    l1 = list()\n",
    "    for c in re.split('([0-9]+)', x):\n",
    "        l1.append(check_digit(c))\n",
    "    return l1\n",
    "        \n",
    "def alpha_num_sort(L:list):        \n",
    "    return sorted(l,key=loop_text)\n",
    "     \n",
    "\n",
    "l = ['AL13', 'AL3', 'AA14', 'AA4']\n",
    "\n",
    "print(alpha_num_sort(l))\n"
   ]
  },
  {
   "cell_type": "code",
   "execution_count": 12,
   "metadata": {},
   "outputs": [
    {
     "data": {
      "text/plain": [
       "['AA4', 'AA14', 'AL3', 'AL13']"
      ]
     },
     "execution_count": 12,
     "metadata": {},
     "output_type": "execute_result"
    }
   ],
   "source": [
    "import natsort\n",
    "your_list = ['AL13', 'AL3', 'AA14', 'AA4']\n",
    "natsort.natsorted(your_list)"
   ]
  },
  {
   "cell_type": "code",
   "execution_count": 13,
   "metadata": {},
   "outputs": [
    {
     "name": "stdout",
     "output_type": "stream",
     "text": [
      "['AA4', 'AA14', 'AL3', 'AL13']\n"
     ]
    }
   ],
   "source": [
    "import re \n",
    "\n",
    "def sorted_nicely_no_list(l:list): \n",
    "    \"\"\" Sort the given iterable in the way that humans expect.\"\"\" \n",
    "    convert = lambda text: [int(text) if text.isdigit() else text]\n",
    "    alphanum_key = lambda key: [convert(c) for c in re.split('([0-9]+)', key)]\n",
    "    \n",
    "    return sorted(l, key = alphanum_key)\n",
    "\n",
    "l = ['AL13', 'AL3', 'AA14', 'AA4']\n",
    "print(sorted_nicely_no_list(l))"
   ]
  },
  {
   "cell_type": "code",
   "execution_count": 14,
   "metadata": {},
   "outputs": [
    {
     "name": "stdout",
     "output_type": "stream",
     "text": [
      "50\n"
     ]
    }
   ],
   "source": [
    "x = 10\n",
    "y = 20\n",
    "tfunc = lambda x,y: x+y\n",
    "print(tfunc(10,40))"
   ]
  },
  {
   "cell_type": "code",
   "execution_count": 41,
   "metadata": {},
   "outputs": [
    {
     "name": "stdout",
     "output_type": "stream",
     "text": [
      "['AA4', 'AA14', 'AL3', 'AL13']\n"
     ]
    }
   ],
   "source": [
    "import re \n",
    "\n",
    "def sorted_nicely_usingMap(l:list): \n",
    "    \"\"\" Sort the given iterable in the way that humans expect.\"\"\" \n",
    "    convert = lambda text: int(text) if text.isdigit() else text\n",
    "    \n",
    "    alphanum_key = lambda key: list(map(convert, re.split('([0-9]+)', key)))\n",
    "    \n",
    "    return sorted(l, key = alphanum_key)\n",
    "\n",
    "l = ['AL13', 'AL3', 'AA14', 'AA4']\n",
    "print(sorted_nicely_usingMap(l)) \n",
    "    \n",
    "    \n",
    "    "
   ]
  },
  {
   "cell_type": "code",
   "execution_count": 4,
   "metadata": {},
   "outputs": [
    {
     "name": "stdout",
     "output_type": "stream",
     "text": [
      "('AUT001', 'William Norton', 'UK', 'Cambridge')\n"
     ]
    },
    {
     "ename": "ResourceClosedError",
     "evalue": "This result object does not return rows. It has been closed automatically.",
     "output_type": "error",
     "traceback": [
      "\u001b[1;31m---------------------------------------------------------------------------\u001b[0m",
      "\u001b[1;31mAttributeError\u001b[0m                            Traceback (most recent call last)",
      "\u001b[1;32mC:\\ProgramData\\Anaconda3\\lib\\site-packages\\sqlalchemy\\engine\\result.py\u001b[0m in \u001b[0;36m_fetchall_impl\u001b[1;34m(self)\u001b[0m\n\u001b[0;32m   1081\u001b[0m         \u001b[1;32mtry\u001b[0m\u001b[1;33m:\u001b[0m\u001b[1;33m\u001b[0m\u001b[0m\n\u001b[1;32m-> 1082\u001b[1;33m             \u001b[1;32mreturn\u001b[0m \u001b[0mself\u001b[0m\u001b[1;33m.\u001b[0m\u001b[0mcursor\u001b[0m\u001b[1;33m.\u001b[0m\u001b[0mfetchall\u001b[0m\u001b[1;33m(\u001b[0m\u001b[1;33m)\u001b[0m\u001b[1;33m\u001b[0m\u001b[0m\n\u001b[0m\u001b[0;32m   1083\u001b[0m         \u001b[1;32mexcept\u001b[0m \u001b[0mAttributeError\u001b[0m\u001b[1;33m:\u001b[0m\u001b[1;33m\u001b[0m\u001b[0m\n",
      "\u001b[1;31mAttributeError\u001b[0m: 'NoneType' object has no attribute 'fetchall'",
      "\nDuring handling of the above exception, another exception occurred:\n",
      "\u001b[1;31mResourceClosedError\u001b[0m                       Traceback (most recent call last)",
      "\u001b[1;32m<ipython-input-4-230bb75dcb22>\u001b[0m in \u001b[0;36m<module>\u001b[1;34m()\u001b[0m\n\u001b[0;32m     15\u001b[0m \u001b[0mmysql_engine\u001b[0m\u001b[1;33m.\u001b[0m\u001b[0mexecute\u001b[0m\u001b[1;33m(\u001b[0m\u001b[1;34m\"USE bookinfo\"\u001b[0m\u001b[1;33m)\u001b[0m\u001b[1;33m\u001b[0m\u001b[0m\n\u001b[0;32m     16\u001b[0m \u001b[0mcursor\u001b[0m \u001b[1;33m=\u001b[0m \u001b[0mmysql_engine\u001b[0m\u001b[1;33m.\u001b[0m\u001b[0mexecute\u001b[0m\u001b[1;33m(\u001b[0m\u001b[1;34m\"insert into author values ('AUT017','Vukkalam Nevaan','India','Navi Mumbai')\"\u001b[0m\u001b[1;33m)\u001b[0m\u001b[1;33m\u001b[0m\u001b[0m\n\u001b[1;32m---> 17\u001b[1;33m \u001b[0mresult\u001b[0m \u001b[1;33m=\u001b[0m \u001b[0mcursor\u001b[0m\u001b[1;33m.\u001b[0m\u001b[0mfetchall\u001b[0m\u001b[1;33m(\u001b[0m\u001b[1;33m)\u001b[0m\u001b[1;33m\u001b[0m\u001b[0m\n\u001b[0m\u001b[0;32m     18\u001b[0m \u001b[0mprint\u001b[0m\u001b[1;33m(\u001b[0m\u001b[0mresult\u001b[0m\u001b[1;33m)\u001b[0m\u001b[1;33m\u001b[0m\u001b[0m\n",
      "\u001b[1;32mC:\\ProgramData\\Anaconda3\\lib\\site-packages\\sqlalchemy\\engine\\result.py\u001b[0m in \u001b[0;36mfetchall\u001b[1;34m(self)\u001b[0m\n\u001b[0;32m   1135\u001b[0m             self.connection._handle_dbapi_exception(\n\u001b[0;32m   1136\u001b[0m                 \u001b[0me\u001b[0m\u001b[1;33m,\u001b[0m \u001b[1;32mNone\u001b[0m\u001b[1;33m,\u001b[0m \u001b[1;32mNone\u001b[0m\u001b[1;33m,\u001b[0m\u001b[1;33m\u001b[0m\u001b[0m\n\u001b[1;32m-> 1137\u001b[1;33m                 self.cursor, self.context)\n\u001b[0m\u001b[0;32m   1138\u001b[0m \u001b[1;33m\u001b[0m\u001b[0m\n\u001b[0;32m   1139\u001b[0m     \u001b[1;32mdef\u001b[0m \u001b[0mfetchmany\u001b[0m\u001b[1;33m(\u001b[0m\u001b[0mself\u001b[0m\u001b[1;33m,\u001b[0m \u001b[0msize\u001b[0m\u001b[1;33m=\u001b[0m\u001b[1;32mNone\u001b[0m\u001b[1;33m)\u001b[0m\u001b[1;33m:\u001b[0m\u001b[1;33m\u001b[0m\u001b[0m\n",
      "\u001b[1;32mC:\\ProgramData\\Anaconda3\\lib\\site-packages\\sqlalchemy\\engine\\base.py\u001b[0m in \u001b[0;36m_handle_dbapi_exception\u001b[1;34m(self, e, statement, parameters, cursor, context)\u001b[0m\n\u001b[0;32m   1414\u001b[0m                 )\n\u001b[0;32m   1415\u001b[0m             \u001b[1;32melse\u001b[0m\u001b[1;33m:\u001b[0m\u001b[1;33m\u001b[0m\u001b[0m\n\u001b[1;32m-> 1416\u001b[1;33m                 \u001b[0mutil\u001b[0m\u001b[1;33m.\u001b[0m\u001b[0mreraise\u001b[0m\u001b[1;33m(\u001b[0m\u001b[1;33m*\u001b[0m\u001b[0mexc_info\u001b[0m\u001b[1;33m)\u001b[0m\u001b[1;33m\u001b[0m\u001b[0m\n\u001b[0m\u001b[0;32m   1417\u001b[0m \u001b[1;33m\u001b[0m\u001b[0m\n\u001b[0;32m   1418\u001b[0m         \u001b[1;32mfinally\u001b[0m\u001b[1;33m:\u001b[0m\u001b[1;33m\u001b[0m\u001b[0m\n",
      "\u001b[1;32mC:\\ProgramData\\Anaconda3\\lib\\site-packages\\sqlalchemy\\util\\compat.py\u001b[0m in \u001b[0;36mreraise\u001b[1;34m(tp, value, tb, cause)\u001b[0m\n\u001b[0;32m    185\u001b[0m         \u001b[1;32mif\u001b[0m \u001b[0mvalue\u001b[0m\u001b[1;33m.\u001b[0m\u001b[0m__traceback__\u001b[0m \u001b[1;32mis\u001b[0m \u001b[1;32mnot\u001b[0m \u001b[0mtb\u001b[0m\u001b[1;33m:\u001b[0m\u001b[1;33m\u001b[0m\u001b[0m\n\u001b[0;32m    186\u001b[0m             \u001b[1;32mraise\u001b[0m \u001b[0mvalue\u001b[0m\u001b[1;33m.\u001b[0m\u001b[0mwith_traceback\u001b[0m\u001b[1;33m(\u001b[0m\u001b[0mtb\u001b[0m\u001b[1;33m)\u001b[0m\u001b[1;33m\u001b[0m\u001b[0m\n\u001b[1;32m--> 187\u001b[1;33m         \u001b[1;32mraise\u001b[0m \u001b[0mvalue\u001b[0m\u001b[1;33m\u001b[0m\u001b[0m\n\u001b[0m\u001b[0;32m    188\u001b[0m \u001b[1;33m\u001b[0m\u001b[0m\n\u001b[0;32m    189\u001b[0m \u001b[1;32melse\u001b[0m\u001b[1;33m:\u001b[0m\u001b[1;33m\u001b[0m\u001b[0m\n",
      "\u001b[1;32mC:\\ProgramData\\Anaconda3\\lib\\site-packages\\sqlalchemy\\engine\\result.py\u001b[0m in \u001b[0;36mfetchall\u001b[1;34m(self)\u001b[0m\n\u001b[0;32m   1129\u001b[0m \u001b[1;33m\u001b[0m\u001b[0m\n\u001b[0;32m   1130\u001b[0m         \u001b[1;32mtry\u001b[0m\u001b[1;33m:\u001b[0m\u001b[1;33m\u001b[0m\u001b[0m\n\u001b[1;32m-> 1131\u001b[1;33m             \u001b[0ml\u001b[0m \u001b[1;33m=\u001b[0m \u001b[0mself\u001b[0m\u001b[1;33m.\u001b[0m\u001b[0mprocess_rows\u001b[0m\u001b[1;33m(\u001b[0m\u001b[0mself\u001b[0m\u001b[1;33m.\u001b[0m\u001b[0m_fetchall_impl\u001b[0m\u001b[1;33m(\u001b[0m\u001b[1;33m)\u001b[0m\u001b[1;33m)\u001b[0m\u001b[1;33m\u001b[0m\u001b[0m\n\u001b[0m\u001b[0;32m   1132\u001b[0m             \u001b[0mself\u001b[0m\u001b[1;33m.\u001b[0m\u001b[0m_soft_close\u001b[0m\u001b[1;33m(\u001b[0m\u001b[1;33m)\u001b[0m\u001b[1;33m\u001b[0m\u001b[0m\n\u001b[0;32m   1133\u001b[0m             \u001b[1;32mreturn\u001b[0m \u001b[0ml\u001b[0m\u001b[1;33m\u001b[0m\u001b[0m\n",
      "\u001b[1;32mC:\\ProgramData\\Anaconda3\\lib\\site-packages\\sqlalchemy\\engine\\result.py\u001b[0m in \u001b[0;36m_fetchall_impl\u001b[1;34m(self)\u001b[0m\n\u001b[0;32m   1082\u001b[0m             \u001b[1;32mreturn\u001b[0m \u001b[0mself\u001b[0m\u001b[1;33m.\u001b[0m\u001b[0mcursor\u001b[0m\u001b[1;33m.\u001b[0m\u001b[0mfetchall\u001b[0m\u001b[1;33m(\u001b[0m\u001b[1;33m)\u001b[0m\u001b[1;33m\u001b[0m\u001b[0m\n\u001b[0;32m   1083\u001b[0m         \u001b[1;32mexcept\u001b[0m \u001b[0mAttributeError\u001b[0m\u001b[1;33m:\u001b[0m\u001b[1;33m\u001b[0m\u001b[0m\n\u001b[1;32m-> 1084\u001b[1;33m             \u001b[1;32mreturn\u001b[0m \u001b[0mself\u001b[0m\u001b[1;33m.\u001b[0m\u001b[0m_non_result\u001b[0m\u001b[1;33m(\u001b[0m\u001b[1;33m[\u001b[0m\u001b[1;33m]\u001b[0m\u001b[1;33m)\u001b[0m\u001b[1;33m\u001b[0m\u001b[0m\n\u001b[0m\u001b[0;32m   1085\u001b[0m \u001b[1;33m\u001b[0m\u001b[0m\n\u001b[0;32m   1086\u001b[0m     \u001b[1;32mdef\u001b[0m \u001b[0m_non_result\u001b[0m\u001b[1;33m(\u001b[0m\u001b[0mself\u001b[0m\u001b[1;33m,\u001b[0m \u001b[0mdefault\u001b[0m\u001b[1;33m)\u001b[0m\u001b[1;33m:\u001b[0m\u001b[1;33m\u001b[0m\u001b[0m\n",
      "\u001b[1;32mC:\\ProgramData\\Anaconda3\\lib\\site-packages\\sqlalchemy\\engine\\result.py\u001b[0m in \u001b[0;36m_non_result\u001b[1;34m(self, default)\u001b[0m\n\u001b[0;32m   1087\u001b[0m         \u001b[1;32mif\u001b[0m \u001b[0mself\u001b[0m\u001b[1;33m.\u001b[0m\u001b[0m_metadata\u001b[0m \u001b[1;32mis\u001b[0m \u001b[1;32mNone\u001b[0m\u001b[1;33m:\u001b[0m\u001b[1;33m\u001b[0m\u001b[0m\n\u001b[0;32m   1088\u001b[0m             raise exc.ResourceClosedError(\n\u001b[1;32m-> 1089\u001b[1;33m                 \u001b[1;34m\"This result object does not return rows. \"\u001b[0m\u001b[1;33m\u001b[0m\u001b[0m\n\u001b[0m\u001b[0;32m   1090\u001b[0m                 \u001b[1;34m\"It has been closed automatically.\"\u001b[0m\u001b[1;33m,\u001b[0m\u001b[1;33m\u001b[0m\u001b[0m\n\u001b[0;32m   1091\u001b[0m             )\n",
      "\u001b[1;31mResourceClosedError\u001b[0m: This result object does not return rows. It has been closed automatically."
     ]
    }
   ],
   "source": [
    "import pymysql\n",
    "\n",
    "import sqlalchemy\n",
    "\n",
    "from sqlalchemy import create_engine, MetaData, Table, Column, Integer, String\n",
    "\n",
    "from sqlalchemy import create_engine\n",
    "\n",
    "mysql_engine = create_engine('mysql+pymysql://{0}:{1}@{2}:{3}'.format(\"root\", \"root\", \"localhost\", 3306))\n",
    "mysql_engine.execute(\"USE bookinfo\")\n",
    "meta=MetaData()\n",
    "cursor = mysql_engine.execute(\"select * from author\")\n",
    "result = cursor.fetchone()\n",
    "print(result)\n",
    "mysql_engine.execute(\"USE bookinfo\")\n",
    "cursor = mysql_engine.execute(\"insert into author values ('AUT017','Vukkalam Nevaan','India','Navi Mumbai')\")\n",
    "result = cursor.fetchall()\n",
    "print(result)"
   ]
  },
  {
   "cell_type": "code",
   "execution_count": 40,
   "metadata": {},
   "outputs": [
    {
     "name": "stdout",
     "output_type": "stream",
     "text": [
      "##############\n",
      "AL13\n",
      "**************\n",
      "['AL', 13, '']\n",
      "##############\n",
      "AL3\n",
      "**************\n",
      "['AL', 3, '']\n",
      "##############\n",
      "AA14\n",
      "**************\n",
      "['AA', 14, '']\n",
      "##############\n",
      "AA4\n",
      "**************\n",
      "['AA', 4, '']\n",
      "['AA4', 'AA14', 'AL3', 'AL13']\n"
     ]
    },
    {
     "data": {
      "text/plain": [
       "['AA4', 'AA14', 'AL3', 'AL13']"
      ]
     },
     "execution_count": 40,
     "metadata": {},
     "output_type": "execute_result"
    }
   ],
   "source": [
    "import re \n",
    "\n",
    "#def sorted_nicely_usingMap(l:list): \n",
    "    #\"\"\" Sort the given iterable in the way that humans expect.\"\"\" \n",
    "convert = lambda text:int(text) if text.isdigit() else text\n",
    "\n",
    "    \n",
    "alphanum_key = lambda key: list(map(convert, re.split('([0-9]+)', key)))\n",
    "\n",
    "#    return sorted(l, key = alphanum_key)\n",
    "\n",
    "l = ['AL13', 'AL3', 'AA14', 'AA4']\n",
    "for i in l:\n",
    "    print(\"##############\")\n",
    "    print(convert(i)) \n",
    "    print(\"**************\")\n",
    "    print(alphanum_key(i))\n",
    "sorted(l,key= alphanum_key)   \n",
    "print(sorted(l,key= alphanum_key)    )\n",
    "def  sorted_nicely_usingMap(l:list):    \n",
    "    convert = lambda text:[int(text) if text.isdigit() else text]    \n",
    "    alphanum_key = lambda key: list(map(convert, re.split('([0-9]+)', key)))\n",
    "    return sorted(l,key= alphanum_key)\n",
    "sorted_nicely_usingMap(l)"
   ]
  },
  {
   "cell_type": "code",
   "execution_count": 24,
   "metadata": {},
   "outputs": [
    {
     "name": "stdout",
     "output_type": "stream",
     "text": [
      "['AL13', 'AL3', 'AA14', 'AA4']\n"
     ]
    }
   ],
   "source": [
    "import re \n",
    "\n",
    "def converted (text):\n",
    "    return int(text) if text.isdigit() else text\n",
    "    \n",
    "def alpha_num_key(key):\n",
    "    return list(map(converted, re.split('([0-9]+)', key)))\n",
    "\n",
    "def sorted_nicely_usingMap(l:list):\n",
    "    return sorted(l, key = alpha_num_key)\n",
    "\n",
    "l = ['AL13', 'AL3', 'AA14', 'AA4']\n",
    "print(list(reversed(sorted_nicely_usingMap(l)) ))\n",
    "    \n",
    "    "
   ]
  },
  {
   "cell_type": "code",
   "execution_count": 1,
   "metadata": {},
   "outputs": [
    {
     "name": "stdout",
     "output_type": "stream",
     "text": [
      "2\n",
      "True\n",
      "[9, 8, 7, 6, 5, 4, 3, 2, 2, 1, 1, 0]\n",
      "3\n",
      "[0, 1, 1, 2, 'cat', 2, 3, 4, 5, 6, 7, 8, 9]\n"
     ]
    }
   ],
   "source": [
    "def str_count(obj, lst):\n",
    "    count = 0\n",
    "    for e in lst:\n",
    "        if e == obj:\n",
    "            count = count + 1\n",
    "    return count\n",
    "\n",
    "def str_is_in(obj, lst):  # cannot be called in() because in is a reserved keyword\n",
    "    for e in lst:\n",
    "        if e == obj:\n",
    "            return True\n",
    "    return False\n",
    "\n",
    "def str_reverse(lst):\n",
    "    reversed = list()\n",
    "    for i in range(len(lst)-1, -1, -1): # step through the original list backwards\n",
    "        reversed.append(lst[i])\n",
    "    return reversed\n",
    "\n",
    "def str_index(obj, lst):\n",
    "    for i in range(len(lst)):\n",
    "        if lst[i] == obj:\n",
    "            return i\n",
    "    return -1\n",
    "\n",
    "def str_insert(obj, index, lst):\n",
    "    newlst = []\n",
    "    for i in range(len(lst)):\n",
    "        if i == index:\n",
    "            newlst.append(obj)\n",
    "        newlst.append(lst[i])\n",
    "    return newlst\n",
    "\n",
    "lst = [0, 1, 1, 2, 2, 3, 4, 5, 6, 7, 8, 9]\n",
    "print(str_count(1, lst))\n",
    "print(str_is_in(4, lst))\n",
    "print(str_reverse(lst))\n",
    "print(str_index(2, lst))\n",
    "print(str_insert('cat', 4, lst))\n"
   ]
  },
  {
   "cell_type": "code",
   "execution_count": 1,
   "metadata": {},
   "outputs": [],
   "source": [
    "def mult_string(string1,mult_times=3):\n",
    "    return string1*mult_times\n",
    "\n",
    "anon_mult_string = lambda string1:string1*3"
   ]
  },
  {
   "cell_type": "code",
   "execution_count": 2,
   "metadata": {},
   "outputs": [
    {
     "data": {
      "text/plain": [
       "'vinodvinodvinod'"
      ]
     },
     "execution_count": 2,
     "metadata": {},
     "output_type": "execute_result"
    }
   ],
   "source": [
    "mult_string('vinod')"
   ]
  },
  {
   "cell_type": "code",
   "execution_count": 3,
   "metadata": {},
   "outputs": [
    {
     "data": {
      "text/plain": [
       "'vinodvinodvinod'"
      ]
     },
     "execution_count": 3,
     "metadata": {},
     "output_type": "execute_result"
    }
   ],
   "source": [
    "anon_mult_string('vinod')"
   ]
  },
  {
   "cell_type": "code",
   "execution_count": 14,
   "metadata": {},
   "outputs": [],
   "source": [
    "anon_mult_string2 = lambda string1,multi:string1*multi"
   ]
  },
  {
   "cell_type": "code",
   "execution_count": 15,
   "metadata": {},
   "outputs": [
    {
     "data": {
      "text/plain": [
       "'VinodVinodVinodVinodVinodVinodVinodVinodVinodVinod'"
      ]
     },
     "execution_count": 15,
     "metadata": {},
     "output_type": "execute_result"
    }
   ],
   "source": [
    "anon_mult_string2('Vinod',10)"
   ]
  },
  {
   "cell_type": "code",
   "execution_count": 5,
   "metadata": {},
   "outputs": [],
   "source": [
    "multi = 3\n",
    "anon_mult_string3 = lambda string1,multi:(string1*multi,multi)"
   ]
  },
  {
   "cell_type": "code",
   "execution_count": 6,
   "metadata": {},
   "outputs": [
    {
     "data": {
      "text/plain": [
       "('VinodVinodVinodVinodVinodVinod', 6)"
      ]
     },
     "execution_count": 6,
     "metadata": {},
     "output_type": "execute_result"
    }
   ],
   "source": [
    "anon_mult_string3('Vinod',6)"
   ]
  },
  {
   "cell_type": "code",
   "execution_count": 9,
   "metadata": {},
   "outputs": [
    {
     "data": {
      "text/plain": [
       "('VinodVinod', 2)"
      ]
     },
     "execution_count": 9,
     "metadata": {},
     "output_type": "execute_result"
    }
   ],
   "source": [
    "anon_mult_string3('Vinod',2)"
   ]
  },
  {
   "cell_type": "markdown",
   "metadata": {},
   "source": []
  }
 ],
 "metadata": {
  "kernelspec": {
   "display_name": "Python 3",
   "language": "python",
   "name": "python3"
  },
  "language_info": {
   "codemirror_mode": {
    "name": "ipython",
    "version": 3
   },
   "file_extension": ".py",
   "mimetype": "text/x-python",
   "name": "python",
   "nbconvert_exporter": "python",
   "pygments_lexer": "ipython3",
   "version": "3.6.5"
  }
 },
 "nbformat": 4,
 "nbformat_minor": 2
}
